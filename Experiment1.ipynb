{
  "nbformat": 4,
  "nbformat_minor": 0,
  "metadata": {
    "colab": {
      "provenance": [],
      "authorship_tag": "ABX9TyNF8V1Euyqzk4QGkCHIHzSh",
      "include_colab_link": true
    },
    "kernelspec": {
      "name": "python3",
      "display_name": "Python 3"
    },
    "language_info": {
      "name": "python"
    }
  },
  "cells": [
    {
      "cell_type": "markdown",
      "metadata": {
        "id": "view-in-github",
        "colab_type": "text"
      },
      "source": [
        "<a href=\"https://colab.research.google.com/github/payalkhalage/payalkhalage/blob/main/Experiment1.ipynb\" target=\"_parent\"><img src=\"https://colab.research.google.com/assets/colab-badge.svg\" alt=\"Open In Colab\"/></a>"
      ]
    },
    {
      "cell_type": "code",
      "execution_count": 1,
      "metadata": {
        "id": "R63HwjCKX9gw",
        "colab": {
          "base_uri": "https://localhost:8080/"
        },
        "outputId": "9b9cf5b0-fd09-4122-cf0a-bab23184ee90"
      },
      "outputs": [
        {
          "output_type": "stream",
          "name": "stdout",
          "text": [
            "enter the radius of circle20\n",
            "1256.0\n"
          ]
        }
      ],
      "source": [
        "a=int(input(\"enter the radius of circle\"))\n",
        "b=3.14*a*a\n",
        "print(b)\n"
      ]
    },
    {
      "cell_type": "markdown",
      "source": [
        "\n"
      ],
      "metadata": {
        "id": "YjapIwo-fCFj"
      }
    },
    {
      "cell_type": "code",
      "source": [
        "\n",
        "\n",
        "c=int(input(\"enter the first no\"))\n",
        "d=int(input(\"enter the second no\"))\n",
        "print(c+d)"
      ],
      "metadata": {
        "colab": {
          "base_uri": "https://localhost:8080/"
        },
        "id": "rFPIsqBwfO6K",
        "outputId": "58323fc9-86c2-471b-8409-1c42669b702b"
      },
      "execution_count": 2,
      "outputs": [
        {
          "output_type": "stream",
          "name": "stdout",
          "text": [
            "enter the first no10\n",
            "enter the second no20\n",
            "30\n"
          ]
        }
      ]
    },
    {
      "cell_type": "code",
      "source": [],
      "metadata": {
        "id": "lyy7p9Qhglqv"
      },
      "execution_count": null,
      "outputs": []
    }
  ]
}